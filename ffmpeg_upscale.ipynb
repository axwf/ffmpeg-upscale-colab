{
  "cells": [
    {
      "cell_type": "markdown",
      "metadata": {
        "id": "view-in-github",
        "colab_type": "text"
      },
      "source": [
        "<a href=\"https://colab.research.google.com/github/axwf/ffmpeg-upscale-colab/blob/main/ffmpeg_upscale.ipynb\" target=\"_parent\"><img src=\"https://colab.research.google.com/assets/colab-badge.svg\" alt=\"Open In Colab\"/></a>"
      ]
    },
    {
      "cell_type": "markdown",
      "metadata": {
        "id": "7AP90FJwiFey"
      },
      "source": [
        "## FFmpeg Upscaler\n",
        "- Requirements:\n",
        "  - a Google Drive\n",
        "  - 4-6 GB of avalible space in your Google Drive + additional storage for video(s)\n",
        "  - GPU compute or CPU runtime\n",
        "- **uncheck** `FIRST_LAUNCH` and `INSTALL_FFMPEG` **after** first launch\n"
      ]
    },
    {
      "cell_type": "code",
      "execution_count": null,
      "metadata": {
        "id": "ieApbPa1dgQY",
        "cellView": "form"
      },
      "outputs": [],
      "source": [
        "#@markdown ## 1) *Setup*\n",
        "#@markdown *** This may take up a long time (30+ minutes).**\n",
        "#@markdown - **ALWAYS mounts drive**\n",
        "#@markdown - `FIRST_LAUNCH` creates FFmpegUpscale and other additional folders in your google drive\n",
        "#@markdown - `INSTALL_FFMPEG` installs [FFmpeg with NVIDIA Acceleration](https://docs.nvidia.com/video-technologies/video-codec-sdk/12.0/ffmpeg-with-nvidia-gpu/index.html)\n",
        "\n",
        "import os\n",
        "\n",
        "from pathlib import Path\n",
        "\n",
        "OPTIONS = {}\n",
        "\n",
        "FIRST_LAUNCH = True #@param {type:\"boolean\"}\n",
        "INSTALL_FFMPEG = True #@param {type:\"boolean\"}\n",
        "OPTIONS['FIRST_LAUNCH'] = FIRST_LAUNCH\n",
        "OPTIONS['INSTALL_FFMPEG'] = INSTALL_FFMPEG\n",
        "\n",
        "\n",
        "!echo \"-= Mounting Google Drive =-\"\n",
        "%cd /\n",
        "\n",
        "from google.colab import drive\n",
        "drive.mount('/content/drive')\n",
        "\n",
        "\n",
        "if OPTIONS['FIRST_LAUNCH']:\n",
        "  if os.path.exists('/content/drive/MyDrive/FFmpegUpscale'):\n",
        "    print(\"Directory Already Exists! Deselect `FIRST_LAUNCH`\")\n",
        "  else:\n",
        "    # >> create FFmpegUpscale DIR if first launch\n",
        "    os.mkdir('/content/drive/MyDrive/FFmpegUpscale')\n",
        "    os.mkdir('/content/drive/MyDrive/FFmpegUpscale/inputVideosHere')\n",
        "    os.mkdir('/content/drive/MyDrive/FFmpegUpscale/output')\n",
        "\n",
        "    %cd /content/drive/MyDrive/FFmpegUpscale\n",
        "\n",
        "if OPTIONS['INSTALL_FFMPEG']:\n",
        "\n",
        "  if not os.path.exists('/content/drive/MyDrive/FFmpegUpscale'):\n",
        "    print(\"Missing Directory! Select `FIRST_LAUNCH`\")\n",
        "  else:\n",
        "    %cd /content/drive/MyDrive/FFmpegUpscale\n",
        "\n",
        "    # >> download & install ffnvcodec\n",
        "    !echo '-= Downloading & Installing =-' && git clone https://git.videolan.org/git/ffmpeg/nv-codec-headers.git\n",
        "    !cd nv-codec-headers && sudo make install && cd -\n",
        "\n",
        "    # >> download ffmpeg\n",
        "    !echo '-= Downloading ffmpeg =-' && git clone https://git.ffmpeg.org/ffmpeg.git ffmpeg/\n",
        "\n",
        "    # >> installing required packages\n",
        "    !sudo apt-get install build-essential yasm cmake libtool libc6 libc6-dev unzip wget libnuma1 libnuma-dev\n",
        "    !sudo apt-get install nasm\n",
        "    !apt-get install -y cuda\n",
        "\n",
        "    os.environ['PATH'] += ':/usr/local/cuda/bin'\n",
        "    os.environ['CUDA_HOME'] = '/usr/local/cuda'\n",
        "\n",
        "    # >> configure\n",
        "    !chmod +x /content/drive/MyDrive/FFmpegUpscale/ffmpeg/configure\n",
        "    !cd /content/drive/MyDrive/FFmpegUpscale/ffmpeg/ && /content/drive/MyDrive/FFmpegUpscale/ffmpeg/configure --enable-nonfree --enable-cuda-nvcc --enable-libnpp --extra-cflags=-I/usr/local/cuda/include --extra-ldflags=-L/usr/local/cuda/lib64 --disable-static --enable-shared\n",
        "\n",
        "    # >> compile\n",
        "    !chmod +x /content/drive/MyDrive/FFmpegUpscale/ffmpeg/ffbuild/version.sh\n",
        "    !cd /content/drive/MyDrive/FFmpegUpscale/ffmpeg/ && sudo make -j 8 NVCC=/usr/local/cuda/bin/nvcc\n",
        "\n",
        "    # >> install lib\n",
        "    !chmod +x /content/drive/MyDrive/FFmpegUpscale/ffmpeg/ffbuild/pkgconfig_generate.sh\n",
        "    !cd /content/drive/MyDrive/FFmpegUpscale/ffmpeg/ && sudo make install\n",
        "\n",
        "WORKSPACE = \"/content/drive/MyDrive/FFmpegUpscale\"\n",
        "%cd $WORKSPACE\n",
        "\n",
        "!echo \"-= Done! =-\""
      ]
    },
    {
      "cell_type": "code",
      "execution_count": null,
      "metadata": {
        "cellView": "form",
        "id": "BKVzPFQ3i6zx"
      },
      "outputs": [],
      "source": [
        "#@markdown ## 2) *Select Video*\n",
        "#@markdown - upload your video to your google drive in `FFmpegUpscale/inputVideosHere`\n",
        "#@markdown - copy the file name **WITH EXTENSION** and paste into `video_name`\n",
        "\n",
        "video_name = 'file name here.video extension'#@param{type: \"string\"}\n",
        "file_name = video_name.split('/')[-1]\n",
        "video_path = f'/content/drive/MyDrive/FFmpegUpscale/inputVideosHere/{video_name}'\n",
        "if not os.path.exists(video_path):\n",
        "  print(\"File Not Found!\")\n",
        "else:\n",
        "  print(\"Video set to:\\n\",video_path)"
      ]
    },
    {
      "cell_type": "code",
      "execution_count": null,
      "metadata": {
        "cellView": "form",
        "id": "s6UPNLuikpcY"
      },
      "outputs": [],
      "source": [
        "#@markdown ## 3) *Upscale Video*\n",
        "#@markdown - note: only 8 bit video is supported\n",
        "#@markdown - select the resolution to upscale to in `resolution`\n",
        "#@markdown - will always use `h264_nvenc` codec for encoding\n",
        "\n",
        "import cv2 as cv\n",
        "\n",
        "# >> set ffmpeg path\n",
        "!sudo mv /content/drive/MyDrive/FFmpegUpscale/ffmpeg /usr/local/bin/ffmpeg\n",
        "\n",
        "video = cv.VideoCapture(video_path)\n",
        "video_width = int(video.get(cv.CAP_PROP_FRAME_WIDTH))\n",
        "video_height = int(video.get(cv.CAP_PROP_FRAME_HEIGHT))\n",
        "\n",
        "convert_to_8_bit = False #@param {type:\"boolean\"}\n",
        "encoder = \"h264_nvenc\" #@param [\"h264_nvenc\", \"libx264\", \"hevc_nvenc\"] {type:\"string\"}\n",
        "resolution = \"2k (2560 x 1440)\" #@param [\"FHD (1920 x 1080)\", \"2k (2560 x 1440)\", \"4k (3840 x 2160)\"] {type:\"string\"}\n",
        "preset = \"medium\" #@param [\"ultrafast\", \"superfast\", \"veryfast\", \"faster\", \"fast\", \"medium\", \"slow\", \"slower\", \"veryslow\", \"lossless\"] {type:\"string\"}\n",
        "profile = \"main\" #@param [\"baseline\", \"main\", \"high\", \"high10\", \"high422\", \"high444\"] {type:\"string\"}\n",
        "cq = 30 #@param {type:\"slider\", min:0, max:63, step:1}\n",
        "#@markdown - Lower = Better Quality (Slower)\n",
        "#@markdown - Faster = Worse Quality (Faster)\n",
        "\n",
        "output_name = 'upscaled_' + file_name\n",
        "\n",
        "# >> output res\n",
        "match resolution:\n",
        "  case \"FHD (1920 x 1080)\":\n",
        "    final_width=1920\n",
        "    final_height=1080\n",
        "  case \"2k (2560 x 1440)\":\n",
        "    final_width=2560\n",
        "    final_height=1440\n",
        "  case \"4k (3840 x 2160)\":\n",
        "    final_width=3840\n",
        "    final_height=2160\n",
        "\n",
        "os.environ['VIDEO_PATH'] = video_path\n",
        "os.environ['ENCODER'] = encoder\n",
        "os.environ['PRESET'] = preset\n",
        "os.environ['PROFILE'] = profile\n",
        "os.environ['CQ'] = str(cq)\n",
        "os.environ['RESOLUTION'] = f'{final_width}:{final_height}'\n",
        "os.environ['OUTPUT'] = f'/content/drive/MyDrive/FFmpegUpscale/output/{output_name}'\n",
        "\n",
        "!export LD_LIBRARY_PATH=/content/drive/MyDrive/FFmpegUpscale/ffmpeg/libavdevice/libavdevice.so.:$LD_LIBRARY_PATH\n",
        "!cd /content/drive/MyDrive/FFmpegUpscale/ffmpeg\n",
        "print(f\"Upscaling from {video_width}x{video_height} to {final_width}x{final_height}\")\n",
        "if  convert_to_8_bit:\n",
        "  !ffmpeg -i \"$VIDEO_PATH\" -pix_fmt yuv420p -c:v \"$ENCODER\" -preset \"$PRESET\" -profile:v \"$PROFILE\" -cq \"$CQ\" -vf \"scale=$RESOLUTION:flags=neighbor\" -c:a copy \"$OUTPUT\"\n",
        "else:\n",
        "  !ffmpeg -i \"$VIDEO_PATH\" -c:v \"$ENCODER\" -preset \"$PRESET\" -profile:v \"$PROFILE\" -cq \"$CQ\" -vf \"scale=$RESOLUTION:flags=neighbor\" -c:a copy \"$OUTPUT\""
      ]
    },
    {
      "cell_type": "code",
      "execution_count": null,
      "metadata": {
        "id": "fYL6QSR0gPUE",
        "cellView": "form"
      },
      "outputs": [],
      "source": [
        "#@markdown ## 3) *Update Nvidia Driver*\n",
        "#@markdown\n",
        "\n",
        "# prompt: update nvidia drivers to lts\n",
        "\n",
        "# This code assumes you are using a CUDA-enabled runtime in Colab.\n",
        "# It also assumes that you have already installed ffmpeg with NVidia acceleration as in the original code.\n",
        "# If not, uncomment the relevant lines and run the installation section first.\n",
        "\n",
        "!apt-get update\n",
        "!apt-get install -y --no-install-recommends nvidia-driver-530 # Replace 530 with your desired LTS driver version\n",
        "# You can find the available LTS drivers with: !apt-cache madison nvidia-driver\n",
        "!nvidia-smi # Verify the driver version"
      ]
    }
  ],
  "metadata": {
    "colab": {
      "provenance": [],
      "gpuType": "T4",
      "authorship_tag": "ABX9TyO1gfTxyzxjwYko4hmwKufS",
      "include_colab_link": true
    },
    "kernelspec": {
      "display_name": "Python 3",
      "name": "python3"
    },
    "language_info": {
      "name": "python"
    },
    "accelerator": "GPU"
  },
  "nbformat": 4,
  "nbformat_minor": 0
}